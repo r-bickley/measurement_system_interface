{
 "cells": [
  {
   "cell_type": "code",
   "execution_count": 1,
   "metadata": {},
   "outputs": [],
   "source": [
    "#R. Bickley, M. Kramer, J. Jacobs, 2019 for Radio Frequency Systems\n",
    "#Accepts unprocessed profile data\n",
    "#Calculates sizes and depths\n",
    "#Returns measurements"
   ]
  },
  {
   "cell_type": "code",
   "execution_count": 11,
   "metadata": {},
   "outputs": [],
   "source": [
    "import pandas as pd\n",
    "import numpy as np\n",
    "import math as m\n",
    "import matplotlib.pyplot as plt\n",
    "from scipy.signal import argrelextrema"
   ]
  },
  {
   "cell_type": "code",
   "execution_count": 2,
   "metadata": {},
   "outputs": [],
   "source": [
    "def read_in(filename):\n",
    "    #file should be a .csv with columns: 'ind','p1','p2','p3'...'pn' where n is the number of tuners measured\n",
    "    dat = pd.read_csv(filename)\n",
    "    return dat"
   ]
  },
  {
   "cell_type": "code",
   "execution_count": 6,
   "metadata": {},
   "outputs": [],
   "source": [
    "def plane_eqn(points):\n",
    "    #where points is an array with dimensions:\n",
    "    #[[xa,ya,za],[xb,yb,zb],[xc,yc,zc]]\n",
    "    #check array dimensions:\n",
    "    if points.shape != (3,3):\n",
    "        return('Points array does not have the required dimensions.')\n",
    "    else:\n",
    "        p_a = points[0]\n",
    "        p_b = points[1]\n",
    "        p_c = points[2]\n",
    "        #construct the vectors\n",
    "        v_ab = np.array([[p_b[0]-p_a[0]],[p_b[1]-p_a[1]],[p_b[2]-p_a[2]]])\n",
    "        v_ac = np.array([[p_c[0]-p_a[0]],[p_c[1]-p_a[1]],[p_c[2]-p_a[2]]])\n",
    "        plane = np.cross(v_ab,v_ac,axis = 0)\n",
    "        if np.count_nonzero(plane) == 0:\n",
    "            return('Points are collinear.')\n",
    "        else:\n",
    "            d = -plane[0]*p_a[0]-plane[1]*p_a[1]-plane[2]*p_a[2]\n",
    "            plane = np.array([plane[0],plane[1],plane[2],d])\n",
    "            return plane"
   ]
  },
  {
   "cell_type": "code",
   "execution_count": 7,
   "metadata": {},
   "outputs": [],
   "source": [
    "def local_pcb_height(plane,point):\n",
    "    #where plane is the 1x4 vector and point is a x, y coordinate pair\n",
    "    if plane.shape != (4,1):\n",
    "        return('Plane vector does not have the required dimensions')\n",
    "    if len(point) != (2):\n",
    "        return('Point is not a coordinate pair')\n",
    "    else:\n",
    "        z_loc = (-plane[0]*point[0]-plane[1]*point[1]-plane[3])/plane[2]\n",
    "        return(z_loc)"
   ]
  },
  {
   "cell_type": "code",
   "execution_count": 4,
   "metadata": {},
   "outputs": [],
   "source": [
    "def calculate(dat):\n",
    "    #gets the size and depth for each profile column in the given data\n",
    "    tuner_sizes = []\n",
    "    tuner_depths = []\n",
    "    for i in range(len(dat)-6):\n",
    "        #Performing a polynomial fit on the (i+1)th tuner profile\n",
    "        x_new = np.linspace(dat['ind'][0], dat['ind'][100], num=len(dat['ind'])*10)\n",
    "        coefs = np.polyfit(dat['ind'], dat['p'+str(i+1)], deg=15)\n",
    "        ffit = np.polyval(coefs, x_new)\n",
    "\n",
    "        #Get and sort the local maxima of the fit\n",
    "        loc_max = ffit[argrelextrema(ffit, np.greater)[0]]\n",
    "        loc_max.sort()\n",
    "        #Get and sort the local minima of the fit\n",
    "        loc_min = ffit[argrelextrema(ffit, np.less)[0]]\n",
    "        loc_min.sort()\n",
    "\n",
    "        fids = [dat['fid1'],dat['fid2'],dat['fid3']]\n",
    "        point = [dat['x_coords'][i],dat['y_coords'][i]]\n",
    "        local_zero = local_pcb_height(plane_eqn(fids),point)\n",
    "        #Identify the tuner bottom as the position of the largest maximum\n",
    "        tuner_bottom = loc_max[-1]+0.012645833 # adding the tuner bottom thickness to the largest maximum\n",
    "        #Identify the tuner top as the average of the positions of the two largest minima, either side of the tuner well\n",
    "        tuner_top = np.average(loc_min[0:2])\n",
    "        tuner_size = (tuner_bottom - tuner_top)\n",
    "        tuner_depth = tuner_bottom - local_zero\n",
    "\n",
    "        tuner_sizes.append(tuner_size)\n",
    "        tuner_depths.append(tuner_depth)\n",
    "\n",
    "    return tuner_sizes, tuner_depths"
   ]
  },
  {
   "cell_type": "code",
   "execution_count": 10,
   "metadata": {},
   "outputs": [],
   "source": [
    "def make_sheet(dat):\n",
    "    #This outputs the finished excel file\n",
    "    sizes, depths = calculate(dat)\n",
    "    indices = []\n",
    "    for i in range(len(dat)-6):\n",
    "        indices.append('p'+str(i+1))\n",
    "    df_out = pd.DataFrame({'Index':indices,'Size':sizes,'Depth':depths})\n",
    "    df_out.to_excel('tuner_measurements.xlsx', sheet_name='sheet1', index=False)"
   ]
  },
  {
   "cell_type": "code",
   "execution_count": null,
   "metadata": {},
   "outputs": [],
   "source": [
    "#Input the name of the formatted measurement file below\n",
    "make_sheet(read_in(filename))"
   ]
  }
 ],
 "metadata": {
  "kernelspec": {
   "display_name": "Python 3",
   "language": "python",
   "name": "python3"
  },
  "language_info": {
   "codemirror_mode": {
    "name": "ipython",
    "version": 3
   },
   "file_extension": ".py",
   "mimetype": "text/x-python",
   "name": "python",
   "nbconvert_exporter": "python",
   "pygments_lexer": "ipython3",
   "version": "3.6.7"
  }
 },
 "nbformat": 4,
 "nbformat_minor": 2
}
