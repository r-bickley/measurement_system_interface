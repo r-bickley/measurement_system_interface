{
 "cells": [
  {
   "cell_type": "code",
   "execution_count": 1,
   "metadata": {},
   "outputs": [],
   "source": [
    "#Robert Bickley - Implementation of Honors Thesis Analysis Concept"
   ]
  },
  {
   "cell_type": "code",
   "execution_count": 2,
   "metadata": {},
   "outputs": [],
   "source": [
    "import pandas as pd\n",
    "import numpy as np\n",
    "import math as m"
   ]
  },
  {
   "cell_type": "code",
   "execution_count": 3,
   "metadata": {},
   "outputs": [],
   "source": [
    "#Functionality:\n",
    "#compare_boards will compare the state of two boards, one tuned and one un-tuned, and deliver a tuning recipe\n",
    "#recipe_travel will determine the total amount of tuner travel that a recipe calls for\n",
    "#recipe_wear will find the number of tuners that travel \"significantly\", based on a user-specified threshold\n",
    "#recommend will assess a set of recipes and recommend one based on user-specified priorities"
   ]
  },
  {
   "cell_type": "code",
   "execution_count": 16,
   "metadata": {},
   "outputs": [],
   "source": [
    "#Example Boards\n",
    "#As in our previous analytical work for this project, data will be stored in pandas DataFrame objects\n",
    "#An \"un-tuned\" board example, with only 10 tuners for this demonstration:\n",
    "untuned_board = pd.DataFrame({'tuner':[0,1,2,3,4,5,6,7,8,9],'depth':[0.05,0.4,0.98,0.3,1.0,0.73,0.51,0.22,0.68,0.07]})\n",
    "#Two possible \"tuned\" board examples, note that these do not correspond to a real tuned RF filter\n",
    "tuned_board_1 = pd.DataFrame({'tuner':[0,1,2,3,4,5,6,7,8,9],'depth':[0.3,0.4,0.65,0.33,0.09,0.5,0.25,0.1,0.76,0.3]})\n",
    "tuned_board_2 = pd.DataFrame({'tuner':[0,1,2,3,4,5,6,7,8,9],'depth':[0.1,0.67,0.11,0.45,0.14,1.02,0.54,0.31,0.74,0.03]})"
   ]
  },
  {
   "cell_type": "code",
   "execution_count": 17,
   "metadata": {},
   "outputs": [],
   "source": [
    "def compare_boards(sample, tuned):\n",
    "    #where \"sample\" is the board to be tuned, \"tuned\" is a known tuned board state\n",
    "    #assumes boards are formatted the same way and have the same dimensions\n",
    "    #returns a recipe, wherein positive values mean that a tuner should be driven in, negative means drawn out\n",
    "    recipe = tuned['depth']-sample['depth']\n",
    "    return recipe"
   ]
  },
  {
   "cell_type": "code",
   "execution_count": 18,
   "metadata": {},
   "outputs": [
    {
     "name": "stdout",
     "output_type": "stream",
     "text": [
      "0    0.25\n",
      "1    0.00\n",
      "2   -0.33\n",
      "3    0.03\n",
      "4   -0.91\n",
      "5   -0.23\n",
      "6   -0.26\n",
      "7   -0.12\n",
      "8    0.08\n",
      "9    0.23\n",
      "Name: depth, dtype: float64\n",
      "0    0.05\n",
      "1    0.27\n",
      "2   -0.87\n",
      "3    0.15\n",
      "4   -0.86\n",
      "5    0.29\n",
      "6    0.03\n",
      "7    0.09\n",
      "8    0.06\n",
      "9   -0.04\n",
      "Name: depth, dtype: float64\n"
     ]
    }
   ],
   "source": [
    "#testing the compare_boards function\n",
    "print(compare_boards(untuned_board,tuned_board_1))\n",
    "print(compare_boards(untuned_board,tuned_board_2))"
   ]
  },
  {
   "cell_type": "code",
   "execution_count": 19,
   "metadata": {},
   "outputs": [],
   "source": [
    "def recipe_travel(sample, tuned):\n",
    "    #calculates the total travel in inches required to follow a recipe\n",
    "    #a secondary metric of tuning time\n",
    "    recipe = compare_boards(sample, tuned)\n",
    "    travel = 0\n",
    "    for i in range(len(recipe)):\n",
    "        travel += abs(recipe[i])\n",
    "    return travel"
   ]
  },
  {
   "cell_type": "code",
   "execution_count": 20,
   "metadata": {},
   "outputs": [
    {
     "name": "stdout",
     "output_type": "stream",
     "text": [
      "2.44\n",
      "2.7099999999999995\n"
     ]
    }
   ],
   "source": [
    "#testing the recipe_travel function\n",
    "print(recipe_travel(untuned_board,tuned_board_1))\n",
    "print(recipe_travel(untuned_board,tuned_board_2))"
   ]
  },
  {
   "cell_type": "code",
   "execution_count": 23,
   "metadata": {},
   "outputs": [],
   "source": [
    "def recipe_wear(sample, tuned, threshold):\n",
    "    #calculates the number of tuners that travel significantly, i.e. recipe calls for n tuners to travel more than (threshold) inches\n",
    "    #a metric of the amount of wear on the tuners and bushings\n",
    "    recipe = compare_boards(sample, tuned)\n",
    "    n = 0\n",
    "    for i in range(len(recipe)):\n",
    "        if abs(recipe[i]) >= threshold:\n",
    "            n += 1\n",
    "    return n"
   ]
  },
  {
   "cell_type": "code",
   "execution_count": 25,
   "metadata": {},
   "outputs": [
    {
     "name": "stdout",
     "output_type": "stream",
     "text": [
      "7\n",
      "5\n"
     ]
    }
   ],
   "source": [
    "#testing the recipe_wear function\n",
    "print(recipe_wear(untuned_board,tuned_board_1,0.1))\n",
    "print(recipe_wear(untuned_board,tuned_board_2,0.1))"
   ]
  },
  {
   "cell_type": "code",
   "execution_count": 30,
   "metadata": {},
   "outputs": [],
   "source": [
    "def recommend(sample, tuned_set, threshold, travel_weight, wear_weight):\n",
    "    #computes recipes for each of the boards in tuned_set\n",
    "    #considers the two metrics defined above, recipe_travel and recipe_wear, with weights travel_weight & wear_weight\n",
    "    #recommends a tuning recipe\n",
    "    #travel_weight and wear_weight can be any two numbers, but their values should scale linearly with the relative\n",
    "    #importances of the two factors. For example:\n",
    "    #\"Speed is twice as important as tuner wear.\" => travel_weight = 2 and wear_weight = 1\n",
    "    #\"I care much more about wear on individual tuners.\" => travel_weight = 1 and wear_weight = 10\n",
    "    #\"These factors are equally important.\" => travel_weight = 1 and wear_weight = 1\n",
    "    travels = []\n",
    "    wears = []\n",
    "    for i in range(len(tuned_set)):\n",
    "        tuned = tuned_set[i]\n",
    "        current_travel = recipe_travel(sample, tuned)\n",
    "        current_wear = recipe_wear(sample, tuned, threshold)\n",
    "        travels.append(current_travel)\n",
    "        wears.append(current_wear)\n",
    "    #here I normalize the size of the two factors so that with equal specified weighting they would be considered evenly.    \n",
    "    scale = np.average(travels)/np.average(wears)\n",
    "    wears = [i * scale for i in wears]\n",
    "    scores = []\n",
    "    for i in range(len(tuned_set)):\n",
    "        scores.append(wears[i]*wear_weight+travels[i]*travel_weight)\n",
    "    rec_index = scores.index(min(scores))\n",
    "    return compare_boards(sample, tuned_set[rec_index])"
   ]
  },
  {
   "cell_type": "code",
   "execution_count": 33,
   "metadata": {},
   "outputs": [
    {
     "name": "stdout",
     "output_type": "stream",
     "text": [
      "0    0.05\n",
      "1    0.27\n",
      "2   -0.87\n",
      "3    0.15\n",
      "4   -0.86\n",
      "5    0.29\n",
      "6    0.03\n",
      "7    0.09\n",
      "8    0.06\n",
      "9   -0.04\n",
      "Name: depth, dtype: float64\n",
      "0    0.25\n",
      "1    0.00\n",
      "2   -0.33\n",
      "3    0.03\n",
      "4   -0.91\n",
      "5   -0.23\n",
      "6   -0.26\n",
      "7   -0.12\n",
      "8    0.08\n",
      "9    0.23\n",
      "Name: depth, dtype: float64\n",
      "0    0.05\n",
      "1    0.27\n",
      "2   -0.87\n",
      "3    0.15\n",
      "4   -0.86\n",
      "5    0.29\n",
      "6    0.03\n",
      "7    0.09\n",
      "8    0.06\n",
      "9   -0.04\n",
      "Name: depth, dtype: float64\n"
     ]
    }
   ],
   "source": [
    "#testing the recommend function\n",
    "tuned_set = [tuned_board_1, tuned_board_2]\n",
    "print(recommend(untuned_board, tuned_set, 0.1, 1, 1))\n",
    "#here, we recommend tuning to tuned_board_2 because the wear condition is more significantly different than the travel condition\n",
    "print(recommend(untuned_board, tuned_set, 0.1, 10, 1))\n",
    "#considering travel weight much more heavily, we recommend tuning to tuned_board_1\n",
    "print(recommend(untuned_board, tuned_set, 0.1, 1, 10))\n",
    "#considering wear more heavily results in an easy decision for tuned_board_2"
   ]
  },
  {
   "cell_type": "code",
   "execution_count": null,
   "metadata": {},
   "outputs": [],
   "source": []
  }
 ],
 "metadata": {
  "kernelspec": {
   "display_name": "Python 3",
   "language": "python",
   "name": "python3"
  },
  "language_info": {
   "codemirror_mode": {
    "name": "ipython",
    "version": 3
   },
   "file_extension": ".py",
   "mimetype": "text/x-python",
   "name": "python",
   "nbconvert_exporter": "python",
   "pygments_lexer": "ipython3",
   "version": "3.6.6"
  }
 },
 "nbformat": 4,
 "nbformat_minor": 2
}
